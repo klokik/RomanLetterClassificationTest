{
 "cells": [
  {
   "cell_type": "markdown",
   "metadata": {},
   "source": [
    "### Roman numerals classification notebook\n",
    "\n",
    "Required libraries are imported, and unnecessary verbosity of TensorFlow is supressed\n",
    "\n",
    "Note:\n",
    "  OpenCV is required for image processing, otherwise download preprocessed `dataset.pickle` and put it into work directory, then set `load_cached_data` to `True`"
   ]
  },
  {
   "cell_type": "code",
   "execution_count": 1,
   "metadata": {},
   "outputs": [
    {
     "name": "stdout",
     "output_type": "stream",
     "text": [
      "WARNING:tensorflow:From /home/klokik/.local/lib/python3.6/site-packages/tensorflow/python/ops/distributions/distribution.py:265: ReparameterizationType.__init__ (from tensorflow.python.ops.distributions.distribution) is deprecated and will be removed after 2019-01-01.\n",
      "Instructions for updating:\n",
      "The TensorFlow Distributions library has moved to TensorFlow Probability (https://github.com/tensorflow/probability). You should update all references to use `tfp.distributions` instead of `tf.distributions`.\n",
      "WARNING:tensorflow:From /home/klokik/.local/lib/python3.6/site-packages/tensorflow/python/ops/distributions/bernoulli.py:169: RegisterKL.__init__ (from tensorflow.python.ops.distributions.kullback_leibler) is deprecated and will be removed after 2019-01-01.\n",
      "Instructions for updating:\n",
      "The TensorFlow Distributions library has moved to TensorFlow Probability (https://github.com/tensorflow/probability). You should update all references to use `tfp.distributions` instead of `tf.distributions`.\n"
     ]
    }
   ],
   "source": [
    "import matplotlib.pyplot as plt\n",
    "import numpy as np\n",
    "import pickle\n",
    "\n",
    "import tensorflow as tf\n",
    "\n",
    "tf.logging.set_verbosity(tf.logging.WARN)"
   ]
  },
  {
   "cell_type": "markdown",
   "metadata": {},
   "source": [
    "#### Specify some parameters for data preprocessing and network training\n",
    "\n",
    "Note: Dataset contains two representations of number `4`: the old one `IIII` and a newer one `IV`, these are labeled differently as `4a` and `4b` correspondingly."
   ]
  },
  {
   "cell_type": "code",
   "execution_count": 2,
   "metadata": {},
   "outputs": [],
   "source": [
    "imsize = 32\n",
    "batch_size = 100\n",
    "\n",
    "augmentation_rate = 200\n",
    "\n",
    "load_cached_data = False\n",
    "\n",
    "if not load_cached_data:\n",
    "  import cv2\n",
    "\n",
    "label_map = [\"4b\", \"1\", \"2\", \"3\", \"4a\", \"5\", \"6\", \"7\", \"8\"]"
   ]
  },
  {
   "cell_type": "markdown",
   "metadata": {},
   "source": [
    "Input data is provided as a single tiled image, thus it needs to be resized and sliced down into separate tiles for further annotation"
   ]
  },
  {
   "cell_type": "code",
   "execution_count": 3,
   "metadata": {},
   "outputs": [],
   "source": [
    "def sliceImage(img):\n",
    "  tile_num = (8, 34 * 5)\n",
    "\n",
    "  sy = img.shape[0] / tile_num[0]\n",
    "  sx = img.shape[1] / tile_num[1]\n",
    "\n",
    "  print(\"Input tile size:\", sx, sy)\n",
    "\n",
    "  nimg = cv2.resize(img, (imsize*tile_num[1], imsize*tile_num[0]))\n",
    "\n",
    "  rows = [[] for x in range(tile_num[0])]\n",
    "  for i in range(tile_num[1]):\n",
    "    for j in range(tile_num[0]):\n",
    "      tile = nimg[imsize*j:imsize*(j+1), imsize*i:imsize*(i+1)]\n",
    "      rows[j].append(tile)\n",
    "\n",
    "  tiles = np.array(rows)\n",
    "  return tiles"
   ]
  },
  {
   "cell_type": "markdown",
   "metadata": {},
   "source": [
    "Dataset is relatively small, about 136 samples for each class, thus it nedds some augmentation to prevent overfitting.\n",
    "\n",
    "Augmentation is performed via random rotation, scale and shift operations for each sample specified number of times."
   ]
  },
  {
   "cell_type": "code",
   "execution_count": 4,
   "metadata": {},
   "outputs": [],
   "source": [
    "def augment(img, num):\n",
    "  result = []\n",
    "\n",
    "  for i in range(num):\n",
    "    angle = (np.random.random() - 0.5) * 40\n",
    "    scale = 0.65 + np.random.random() * 0.35\n",
    "\n",
    "    mat = cv2.getRotationMatrix2D((imsize/2, imsize/2), angle, scale)\n",
    "\n",
    "    # shift\n",
    "    mat[0, 2] += (np.random.random() - 0.5) * imsize * 0.2\n",
    "    mat[1, 2] += (np.random.random() - 0.5) * imsize * 0.2\n",
    "\n",
    "    dst = cv2.warpAffine(img, mat, (imsize, imsize), borderValue = (0.5, 0.5, 0.5))  \n",
    "    result.append(dst)\n",
    "\n",
    "  return result"
   ]
  },
  {
   "cell_type": "markdown",
   "metadata": {},
   "source": [
    "According to tile position on input image set a label for it."
   ]
  },
  {
   "cell_type": "code",
   "execution_count": 5,
   "metadata": {},
   "outputs": [],
   "source": [
    "def annotateTiles(tiles):\n",
    "  xs = []\n",
    "  labels = []\n",
    "  for ri, row in enumerate(tiles):\n",
    "    for ci, tile in enumerate(row):\n",
    "      if ci < (34*4):\n",
    "        xs.append(tile)\n",
    "        labels.append(ri+1)\n",
    "      elif ri < 4:\n",
    "        xs.append(tile)\n",
    "        labels.append(0)\n",
    "\n",
    "  assert(len(xs) == len(labels))\n",
    "\n",
    "  return (np.array(xs), np.array(labels))"
   ]
  },
  {
   "cell_type": "markdown",
   "metadata": {},
   "source": [
    "* read input image\n",
    "* split it into tiles\n",
    "* annotate tiles\n",
    "* split annotated data into training, devel and test sets at 0.7/0.15/0.15 rate for cross-validation\n",
    "* augment training data\n",
    "* finally combine this stuff into proper dataset\n",
    "\n",
    "Input image is too large to be displayed in the notebook, therefore you may download and watch it on your computer."
   ]
  },
  {
   "cell_type": "code",
   "execution_count": 6,
   "metadata": {
    "scrolled": true
   },
   "outputs": [
    {
     "name": "stdout",
     "output_type": "stream",
     "text": [
      "Input image: (897, 19330)\n",
      "Input tile size: 113.70588235294117 112.125\n",
      "Tiled array: (8, 170, 32, 32)\n",
      "Has 857 training, 183 devel, 184 test images\n",
      "\n",
      "Augmenting training data 200 folds\n",
      "Augmented training data contains 171400 samples\n",
      "\n",
      "Some augmented training samples\n"
     ]
    },
    {
     "data": {
      "image/png": "[encoded data removed]",
      "text/plain": [
       "<matplotlib.figure.Figure at 0x7ffb23a45ba8>"
      ]
     },
     "metadata": {},
     "output_type": "display_data"
    }
   ],
   "source": [
    "def loadDataset(cached = True):\n",
    "  if not cached:\n",
    "    img = cv2.imread(\"Variant2fixed4783.png\", cv2.IMREAD_GRAYSCALE)\n",
    "    print(\"Input image:\", img.shape)\n",
    "#     fig = plt.figure(num=1, figsize=(20, 5))\n",
    "#     plt.imshow(img)\n",
    "\n",
    "    tiles = sliceImage(img)\n",
    "    print(\"Tiled array:\", tiles.shape)\n",
    "\n",
    "    features, labels = annotateTiles(tiles)\n",
    "\n",
    "    # shuffle data\n",
    "    permutation = np.random.permutation(range(labels.size))\n",
    "    features = [features[i] for i in permutation]\n",
    "    labels = [labels[i] for i in permutation]\n",
    "\n",
    "    # split on train, devel, test\n",
    "    num = len(labels)\n",
    "    splits = list(map(round, [num * 0.7, num * 0.85, num])) # 0.7, 0.15, 0.15\n",
    "    print(\"Has {} training, {} devel, {} test images\".format(splits[0], splits[1] - splits[0], splits[2] - splits[1]))\n",
    "\n",
    "\n",
    "    dataset = dict(\n",
    "      train = (features[0:splits[0]], labels[0:splits[0]]),\n",
    "      devel = (features[splits[0]:splits[1]], labels[splits[0]:splits[1]]),\n",
    "      test = (features[splits[1]:splits[2]], labels[splits[1]:splits[2]]),\n",
    "    )\n",
    "\n",
    "    # augment training dataset\n",
    "    train_features = []\n",
    "    train_labels = []\n",
    "\n",
    "    print(\"\\nAugmenting training data {} folds\".format(augmentation_rate))\n",
    "    for i in range(splits[0]):\n",
    "      train_features += augment(dataset[\"train\"][0][i], augmentation_rate)\n",
    "      train_labels += [dataset[\"train\"][1][i]] * augmentation_rate\n",
    "\n",
    "    # reshuffle training data\n",
    "    permutation = np.random.permutation(range(len(train_labels)))\n",
    "    train_features = [train_features[i] for i in permutation]\n",
    "    train_labels = [train_labels[i] for i in permutation]\n",
    "    print(\"Augmented training data contains {} samples\".format(len(train_labels)))\n",
    "\n",
    "    dataset[\"train\"] = (train_features, train_labels)\n",
    "    \n",
    "    print(\"\\nSome augmented training samples\")\n",
    "    fig = plt.figure(figsize = (11, 8))\n",
    "    for i in range(15):\n",
    "      a = fig.add_subplot(3, 5, i + 1)\n",
    "      plt.imshow(train_features[i])\n",
    "      a.set_title(\"Label: {}\".format(label_map[train_labels[i]]))\n",
    "\n",
    "    with open(\"dataset.pickle\", \"wb\") as f:\n",
    "      pickle.dump(dataset, f)\n",
    "\n",
    "  with open(\"dataset.pickle\", \"rb\") as f:\n",
    "    dataset = pickle.load(f)\n",
    "\n",
    "  return dataset\n",
    "\n",
    "dataset = loadDataset(load_cached_data)\n",
    "\n",
    "train_data = np.asarray(dataset[\"train\"][0], dtype=np.float32) / 255\n",
    "train_labels = np.asarray(dataset[\"train\"][1], dtype=np.int32)\n",
    "devel_data = np.asarray(dataset[\"devel\"][0], dtype=np.float32) / 255\n",
    "devel_labels = np.asarray(dataset[\"devel\"][1], dtype=np.int32)\n",
    "test_data = np.asarray(dataset[\"test\"][0], dtype=np.float32) / 255\n",
    "test_labels = np.asarray(dataset[\"test\"][1], dtype=np.int32)"
   ]
  },
  {
   "cell_type": "markdown",
   "metadata": {},
   "source": [
    "#### Here we define a CNN moodel to be used with `tf.estimation.Estimator`\n",
    "\n",
    "Network has two convolution layers, and two fully-connected with dropout layer inbetween"
   ]
  },
  {
   "cell_type": "code",
   "execution_count": 7,
   "metadata": {},
   "outputs": [],
   "source": [
    "def cnnModelFn(features, labels, mode):\n",
    "  input_layer = tf.reshape(features[\"x\"], [-1, imsize, imsize, 1])\n",
    "\n",
    "  conv1 = tf.layers.conv2d(\n",
    "      inputs=input_layer,\n",
    "      filters=24,\n",
    "      kernel_size=[5, 5],\n",
    "      padding=\"same\",\n",
    "      activation=tf.nn.relu)\n",
    "  pool1 = tf.layers.max_pooling2d(inputs=conv1, pool_size=[2, 2], strides=2)\n",
    "\n",
    "  conv2 = tf.layers.conv2d(\n",
    "      inputs=pool1,\n",
    "      filters=32,\n",
    "      kernel_size=[3, 3],\n",
    "      padding=\"same\",\n",
    "      activation=tf.nn.relu)\n",
    "  pool2 = tf.layers.max_pooling2d(inputs=conv2, pool_size=[2, 2], strides=2)\n",
    "\n",
    "  pool2_flat = tf.reshape(pool2, [-1, (imsize // 4) ** 2 * 32])\n",
    "  dense1 = tf.layers.dense(inputs=pool2_flat, units=256, activation=tf.nn.relu)\n",
    "  dropout1 = tf.layers.dropout(inputs=dense1, rate=0.1, training=(mode == tf.estimator.ModeKeys.TRAIN))\n",
    "\n",
    "  logits = tf.layers.dense(inputs=dropout1, units=9)\n",
    "\n",
    "  predictions = {\n",
    "      \"classes\": tf.argmax(input=logits, axis=1),\n",
    "      \"probabilities\": tf.nn.softmax(logits, name=\"softmax_tensor\")\n",
    "  }\n",
    "  if mode == tf.estimator.ModeKeys.PREDICT:\n",
    "    return tf.estimator.EstimatorSpec(mode=mode, predictions=predictions)\n",
    "\n",
    "  # Calculate Loss (for both TRAIN and EVAL modes)\n",
    "  loss = tf.losses.sparse_softmax_cross_entropy(labels=labels, logits=logits)\n",
    "\n",
    "  if mode == tf.estimator.ModeKeys.TRAIN:\n",
    "    # optimizer = tf.train.GradientDescentOptimizer(learning_rate=0.005)\n",
    "    optimizer = tf.train.AdamOptimizer(learning_rate=0.00005)\n",
    "    train_op = optimizer.minimize(\n",
    "        loss=loss,\n",
    "        global_step=tf.train.get_global_step())\n",
    "    return tf.estimator.EstimatorSpec(mode=mode, loss=loss, train_op=train_op)\n",
    "\n",
    "  eval_metric_ops = {\n",
    "      \"accuracy\": tf.metrics.accuracy(\n",
    "          labels=labels, predictions=predictions[\"classes\"])}\n",
    "  return tf.estimator.EstimatorSpec(\n",
    "      mode=mode, loss=loss, eval_metric_ops=eval_metric_ops)"
   ]
  },
  {
   "cell_type": "markdown",
   "metadata": {},
   "source": [
    "#### Some helper functions to feed data while training, inference and evaluation"
   ]
  },
  {
   "cell_type": "code",
   "execution_count": 8,
   "metadata": {},
   "outputs": [],
   "source": [
    "train_input_fn = tf.estimator.inputs.numpy_input_fn(\n",
    "  x={\"x\": train_data},\n",
    "  y=train_labels,\n",
    "  batch_size=batch_size,\n",
    "  num_epochs=None,\n",
    "  shuffle=True)\n",
    "\n",
    "devel_input_fn = tf.estimator.inputs.numpy_input_fn(\n",
    "  x={\"x\": devel_data},\n",
    "  y=devel_labels,\n",
    "  num_epochs=1,\n",
    "  shuffle=False)\n",
    "\n",
    "test_input_fn = tf.estimator.inputs.numpy_input_fn(\n",
    "  x={\"x\": test_data},\n",
    "  y=test_labels,\n",
    "  num_epochs=1,\n",
    "  shuffle=False)"
   ]
  },
  {
   "cell_type": "markdown",
   "metadata": {},
   "source": [
    "#### Create an estimator object"
   ]
  },
  {
   "cell_type": "code",
   "execution_count": 9,
   "metadata": {},
   "outputs": [],
   "source": [
    "roman_classifier = tf.estimator.Estimator(model_fn=cnnModelFn, model_dir=\"/tmp/roman_convnet_model\")"
   ]
  },
  {
   "cell_type": "markdown",
   "metadata": {},
   "source": [
    "#### Finally train our network, `500` steps at a time.\n",
    "\n",
    "Training takes about 2.5 minutes on a single Rx 580, will take a few times longer on a CPU.\n",
    "\n",
    "`num_epochs` may be decreased to about `10`, 'coz thats the last few percent of accuracy that take most of the training time."
   ]
  },
  {
   "cell_type": "code",
   "execution_count": 11,
   "metadata": {},
   "outputs": [
    {
     "name": "stdout",
     "output_type": "stream",
     "text": [
      "{'accuracy': 0.06010929, 'loss': 2.217074, 'global_step': 0}\n",
      "{'accuracy': 0.8196721, 'loss': 0.50578445, 'global_step': 500}\n",
      "{'accuracy': 0.9508197, 'loss': 0.18514022, 'global_step': 1000}\n",
      "{'accuracy': 0.96174866, 'loss': 0.13962023, 'global_step': 1500}\n",
      "{'accuracy': 0.96174866, 'loss': 0.0972427, 'global_step': 2000}\n",
      "{'accuracy': 0.95628417, 'loss': 0.08929581, 'global_step': 2500}\n",
      "{'accuracy': 0.96174866, 'loss': 0.08660743, 'global_step': 3000}\n",
      "{'accuracy': 0.9836066, 'loss': 0.04635502, 'global_step': 3500}\n",
      "{'accuracy': 0.95628417, 'loss': 0.073071495, 'global_step': 4000}\n",
      "{'accuracy': 0.9781421, 'loss': 0.06244419, 'global_step': 4500}\n",
      "{'accuracy': 0.9781421, 'loss': 0.04691621, 'global_step': 5000}\n",
      "{'accuracy': 0.9781421, 'loss': 0.039479606, 'global_step': 5500}\n",
      "{'accuracy': 0.9726776, 'loss': 0.045986526, 'global_step': 6000}\n",
      "{'accuracy': 0.9726776, 'loss': 0.06506936, 'global_step': 6500}\n",
      "{'accuracy': 0.9945355, 'loss': 0.013523018, 'global_step': 7000}\n",
      "{'accuracy': 0.9945355, 'loss': 0.023627833, 'global_step': 7500}\n",
      "{'accuracy': 0.9945355, 'loss': 0.019430574, 'global_step': 8000}\n",
      "{'accuracy': 0.9945355, 'loss': 0.015029883, 'global_step': 8500}\n",
      "{'accuracy': 1.0, 'loss': 0.012846135, 'global_step': 9000}\n",
      "{'accuracy': 1.0, 'loss': 0.015024723, 'global_step': 9500}\n",
      "{'accuracy': 0.9945355, 'loss': 0.015710935, 'global_step': 10000}\n",
      "{'accuracy': 0.9945355, 'loss': 0.011244077, 'global_step': 10500}\n",
      "{'accuracy': 1.0, 'loss': 0.007594618, 'global_step': 11000}\n",
      "{'accuracy': 0.9945355, 'loss': 0.019206341, 'global_step': 11500}\n",
      "{'accuracy': 1.0, 'loss': 0.0039173206, 'global_step': 12000}\n",
      "{'accuracy': 1.0, 'loss': 0.010308455, 'global_step': 12500}\n",
      "{'accuracy': 0.9945355, 'loss': 0.0169798, 'global_step': 13000}\n",
      "{'accuracy': 1.0, 'loss': 0.0066727847, 'global_step': 13500}\n",
      "{'accuracy': 1.0, 'loss': 0.011818891, 'global_step': 14000}\n",
      "{'accuracy': 1.0, 'loss': 0.011224356, 'global_step': 14500}\n",
      "{'accuracy': 1.0, 'loss': 0.0072107837, 'global_step': 15000}\n",
      "{'accuracy': 1.0, 'loss': 0.005760951, 'global_step': 15500}\n",
      "{'accuracy': 1.0, 'loss': 0.010536189, 'global_step': 16000}\n",
      "{'accuracy': 0.9945355, 'loss': 0.0077591874, 'global_step': 16500}\n",
      "{'accuracy': 0.9945355, 'loss': 0.024118066, 'global_step': 17000}\n",
      "{'accuracy': 1.0, 'loss': 0.00622195, 'global_step': 17500}\n",
      "{'accuracy': 1.0, 'loss': 0.005511566, 'global_step': 18000}\n",
      "{'accuracy': 1.0, 'loss': 0.00711284, 'global_step': 18500}\n",
      "{'accuracy': 0.9781421, 'loss': 0.037508782, 'global_step': 19000}\n",
      "{'accuracy': 0.9836066, 'loss': 0.024768041, 'global_step': 19500}\n",
      "{'accuracy': 0.9945355, 'loss': 0.009854449, 'global_step': 20000}\n",
      "1 loop, best of 1: 2min 35s per loop\n"
     ]
    },
    {
     "data": {
      "image/png": "[encoded data removed]",
      "text/plain": [
       "<matplotlib.figure.Figure at 0x7ff7f71eae80>"
      ]
     },
     "metadata": {},
     "output_type": "display_data"
    }
   ],
   "source": [
    "%%timeit -n 1 -r 1\n",
    "\n",
    "tensors_to_log = {\"probabilities\": \"softmax_tensor\"}\n",
    "logging_hook = tf.train.LoggingTensorHook(tensors=tensors_to_log, every_n_iter=50)\n",
    "\n",
    "num_epochs = 40\n",
    "\n",
    "eval_results = roman_classifier.evaluate(input_fn=devel_input_fn)\n",
    "xs = [eval_results[\"global_step\"]]\n",
    "ys = [eval_results[\"accuracy\"]]\n",
    "print(eval_results)\n",
    "\n",
    "# Train the model\n",
    "for i in range(num_epochs):\n",
    "  roman_classifier.train(\n",
    "    input_fn=train_input_fn,\n",
    "    steps=500,\n",
    "    hooks=[logging_hook])\n",
    "  eval_results = roman_classifier.evaluate(input_fn=devel_input_fn)\n",
    "  xs.append(eval_results[\"global_step\"])\n",
    "  ys.append(eval_results[\"accuracy\"])\n",
    "  print(eval_results)\n",
    "\n",
    "plt.plot(xs, ys, '-o')\n",
    "plt.xlabel(\"Training step\")\n",
    "plt.ylabel(\"Accuracy\")"
   ]
  },
  {
   "cell_type": "markdown",
   "metadata": {},
   "source": [
    "#### Evaluate obtained accuracy:\n",
    "\n",
    "*    plot confusion matrix\n",
    "*    plot samples that were missclassified"
   ]
  },
  {
   "cell_type": "code",
   "execution_count": 12,
   "metadata": {},
   "outputs": [
    {
     "name": "stdout",
     "output_type": "stream",
     "text": [
      "Confusion matrix:\n",
      "[[22  0  0  0  0  0  0  0  0]\n",
      " [ 0 16  0  0  0  0  0  0  0]\n",
      " [ 0  0 21  0  0  0  0  0  0]\n",
      " [ 0  0  0 22  0  0  1  0  0]\n",
      " [ 0  0  0  0 22  0  0  0  0]\n",
      " [ 0  0  0  0  0 21  0  0  0]\n",
      " [ 0  0  0  0  0  0 21  0  0]\n",
      " [ 0  0  0  0  0  0  0 18  0]\n",
      " [ 0  0  0  0  0  0  0  0 20]]\n",
      "{'accuracy': 0.9945652, 'loss': 0.027267804, 'global_step': 20000}\n",
      "\n",
      "Confused samples:\n"
     ]
    },
    {
     "data": {
      "image/png": "[encoded data removed]",
      "text/plain": [
       "<matplotlib.figure.Figure at 0x7ffa30ab7e80>"
      ]
     },
     "metadata": {},
     "output_type": "display_data"
    }
   ],
   "source": [
    "predicted_ids = []\n",
    "predictions = roman_classifier.predict(input_fn=test_input_fn)\n",
    "confused_samples = []\n",
    "\n",
    "for pred_dict, expected, i in zip(predictions, test_labels, range(test_labels.size)):\n",
    "  predicted = pred_dict['classes']\n",
    "  predicted_ids.append(predicted)\n",
    "\n",
    "  if predicted != expected:\n",
    "    confused_samples.append((i, predicted, expected))\n",
    "\n",
    "with tf.Session() as sess:\n",
    "  conf_matrix_op = tf.confusion_matrix(test_labels, predicted_ids, num_classes = 9)\n",
    "  conf_matrix = sess.run(conf_matrix_op)\n",
    "\n",
    "print(\"Confusion matrix:\")\n",
    "print(conf_matrix)\n",
    "\n",
    "eval_results = roman_classifier.evaluate(input_fn=test_input_fn)\n",
    "print(eval_results)\n",
    "\n",
    "cnum = len(confused_samples)\n",
    "if cnum != 0:\n",
    "  print(\"\\nConfused samples:\")\n",
    "  fig = plt.figure(figsize = (10, 6 * cnum // 2))\n",
    "  for i, (j, pred, exp) in enumerate(confused_samples):\n",
    "    a = fig.add_subplot(cnum//2 + 1, 2, i + 1)\n",
    "    plt.imshow(test_data[j])\n",
    "    a.set_title(\"Expected {} - Predicted {}\".format(label_map[exp], label_map[pred]))\n",
    "else:\n",
    "  print(\"\\nClassification on evaluation dataset don't have mismatched samples\")\n",
    "    \n",
    "  "
   ]
  },
  {
   "cell_type": "code",
   "execution_count": null,
   "metadata": {},
   "outputs": [],
   "source": []
  }
 ],
 "metadata": {
  "kernelspec": {
   "display_name": "Python 3",
   "language": "python",
   "name": "python3"
  },
  "language_info": {
   "codemirror_mode": {
    "name": "ipython",
    "version": 3
   },
   "file_extension": ".py",
   "mimetype": "text/x-python",
   "name": "python",
   "nbconvert_exporter": "python",
   "pygments_lexer": "ipython3",
   "version": "3.6.7"
  }
 },
 "nbformat": 4,
 "nbformat_minor": 2
}
